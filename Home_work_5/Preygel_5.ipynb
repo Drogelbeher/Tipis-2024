{
 "cells": [
  {
   "cell_type": "code",
   "execution_count": 10,
   "id": "7165dd18-2293-438a-b298-9cd73a2616e2",
   "metadata": {},
   "outputs": [],
   "source": [
    "import pandas as pd\n",
    "from sklearn.model_selection import train_test_split\n",
    "from sklearn.tree import DecisionTreeRegressor\n",
    "from sklearn.ensemble import RandomForestRegressor\n",
    "from sklearn.feature_extraction import DictVectorizer\n",
    "from sklearn.metrics import root_mean_squared_error\n",
    "import xgboost as xgb\n",
    "import numpy as np\n",
    "\n",
    "# Загрузка данных \n",
    "df = pd.read_csv('jamb_exam_results.csv') \n",
    "\n",
    "# Преобразование названий колонок к нижнему регистру и замена пробелов на подчеркивания\n",
    "df.columns = df.columns.str.lower().str.replace(' ', '_')\n",
    "\n",
    "# Удаление столбца student_id\n",
    "df = df.drop(columns=['student_id'])\n",
    "\n",
    "# Заполнение пропущенных значений нулями\n",
    "df = df.fillna(0)\n",
    "\n",
    "\n",
    "df_full_train, df_test = train_test_split(df, test_size=0.2, random_state=1)\n",
    "df_train, df_val = train_test_split(df_full_train, test_size=0.25, random_state=1)  # 0.25 * 0.8 = 0.2\n",
    "\n",
    "# Выделение целевой переменной и признаков\n",
    "y_train = df_train.jamb_score.values\n",
    "y_val = df_val.jamb_score.values\n",
    "y_test = df_test.jamb_score.values\n",
    "\n",
    "df_train = df_train.drop(columns=['jamb_score'])\n",
    "df_val = df_val.drop(columns=['jamb_score'])\n",
    "df_test = df_test.drop(columns=['jamb_score'])\n",
    "\n",
    "# Преобразование датафреймов в матрицы\n",
    "dv = DictVectorizer(sparse=True)\n",
    "X_train = dv.fit_transform(df_train.to_dict(orient='records'))\n",
    "X_val = dv.transform(df_val.to_dict(orient='records'))\n",
    "X_test = dv.transform(df_test.to_dict(orient='records'))"
   ]
  },
  {
   "cell_type": "code",
   "execution_count": 11,
   "id": "b031ae38-7f4f-4d39-8617-dba20c142d11",
   "metadata": {},
   "outputs": [
    {
     "name": "stdout",
     "output_type": "stream",
     "text": [
      "Вопрос 1: Признак для разбиения данных: study_hours_per_week\n"
     ]
    }
   ],
   "source": [
    "dt = DecisionTreeRegressor(max_depth=1, random_state=1)\n",
    "dt.fit(X_train, y_train)\n",
    "\n",
    "# Получение признака, используемого для разбиения\n",
    "feature = dv.get_feature_names_out()[dt.tree_.feature[0]]\n",
    "print(\"Вопрос 1: Признак для разбиения данных:\", feature)"
   ]
  },
  {
   "cell_type": "code",
   "execution_count": 12,
   "id": "1e703da3-1ca4-4fb1-957e-709dec3d9cdf",
   "metadata": {},
   "outputs": [
    {
     "name": "stdout",
     "output_type": "stream",
     "text": [
      "Вопрос 2: RMSE случайного леса на валидационных данных: 42.14\n"
     ]
    }
   ],
   "source": [
    "rf = RandomForestRegressor(n_estimators=10, random_state=1, n_jobs=-1)\n",
    "rf.fit(X_train, y_train)\n",
    "\n",
    "y_pred = rf.predict(X_val)\n",
    "rmse_val = root_mean_squared_error(y_val, y_pred)\n",
    "print(\"Вопрос 2: RMSE случайного леса на валидационных данных:\", round(rmse_val, 2))"
   ]
  },
  {
   "cell_type": "code",
   "execution_count": 13,
   "id": "d6fff29c-7c7a-4e2b-80a8-df40a7ef9825",
   "metadata": {},
   "outputs": [
    {
     "name": "stdout",
     "output_type": "stream",
     "text": [
      "Вопрос 3: n_estimators, после которого RMSE перестает улучшаться: 90\n"
     ]
    }
   ],
   "source": [
    "rmse_values = []\n",
    "for n in range(10, 201, 10):\n",
    "    rf = RandomForestRegressor(n_estimators=n, random_state=1, n_jobs=-1)\n",
    "    rf.fit(X_train, y_train)\n",
    "    y_pred = rf.predict(X_val)\n",
    "    rmse = root_mean_squared_error(y_val, y_pred)\n",
    "    rmse_values.append(rmse)\n",
    "\n",
    "# Поиск значения n_estimators, после которого RMSE перестает улучшаться\n",
    "best_n_estimators = 10 + (10 * np.argmin(np.diff(rmse_values) < 0.001))\n",
    "print(\"Вопрос 3: n_estimators, после которого RMSE перестает улучшаться:\", best_n_estimators)"
   ]
  },
  {
   "cell_type": "code",
   "execution_count": null,
   "id": "8648f441-e1d6-4170-b31d-5096da7505e8",
   "metadata": {},
   "outputs": [],
   "source": [
    "best_rmse = float('inf')\n",
    "best_depth = None\n",
    "for depth in [10, 15, 20, 25]:\n",
    "    rmse_list = []\n",
    "    for n in range(10, 201, 10):\n",
    "        rf = RandomForestRegressor(n_estimators=n, max_depth=depth, random_state=1, n_jobs=-1)\n",
    "        rf.fit(X_train, y_train)\n",
    "        y_pred = rf.predict(X_val)\n",
    "        rmse = root_mean_squared_error(y_val, y_pred)\n",
    "        rmse_list.append(rmse)\n",
    "    \n",
    "    avg_rmse = np.mean(rmse_list)\n",
    "    if avg_rmse < best_rmse:\n",
    "        best_rmse = avg_rmse\n",
    "        best_depth = depth\n",
    "\n",
    "print(\"Вопрос 4: Лучшее значение max_depth по среднему RMSE:\", best_depth)"
   ]
  },
  {
   "cell_type": "code",
   "execution_count": null,
   "id": "3539aef9-0f10-4712-b0a2-35114066938d",
   "metadata": {},
   "outputs": [],
   "source": []
  }
 ],
 "metadata": {
  "kernelspec": {
   "display_name": "Python 3 (ipykernel)",
   "language": "python",
   "name": "python3"
  },
  "language_info": {
   "codemirror_mode": {
    "name": "ipython",
    "version": 3
   },
   "file_extension": ".py",
   "mimetype": "text/x-python",
   "name": "python",
   "nbconvert_exporter": "python",
   "pygments_lexer": "ipython3",
   "version": "3.12.6"
  }
 },
 "nbformat": 4,
 "nbformat_minor": 5
}
