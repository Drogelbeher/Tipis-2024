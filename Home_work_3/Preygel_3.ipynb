{
 "cells": [
  {
   "cell_type": "code",
   "execution_count": 36,
   "id": "5881d449-4607-4100-9069-f576972ea145",
   "metadata": {},
   "outputs": [],
   "source": [
    "import pandas as pd\n",
    "from sklearn.model_selection import train_test_split\n",
    "from sklearn.linear_model import LinearRegression\n",
    "from sklearn.linear_model import LogisticRegression\n",
    "from sklearn.metrics import mean_absolute_error, r2_score\n",
    "from sklearn.impute import SimpleImputer\n",
    "from sklearn.feature_selection import mutual_info_classif\n",
    "from sklearn.preprocessing import LabelEncoder, OneHotEncoder\n",
    "from sklearn.preprocessing import OneHotEncoder\n",
    "from sklearn.metrics import accuracy_score\n",
    "import pickle"
   ]
  },
  {
   "cell_type": "code",
   "execution_count": 37,
   "id": "0f4b624d-da57-481a-84af-02681d2c7872",
   "metadata": {},
   "outputs": [
    {
     "data": {
      "text/html": [
       "<div>\n",
       "<style scoped>\n",
       "    .dataframe tbody tr th:only-of-type {\n",
       "        vertical-align: middle;\n",
       "    }\n",
       "\n",
       "    .dataframe tbody tr th {\n",
       "        vertical-align: top;\n",
       "    }\n",
       "\n",
       "    .dataframe thead th {\n",
       "        text-align: right;\n",
       "    }\n",
       "</style>\n",
       "<table border=\"1\" class=\"dataframe\">\n",
       "  <thead>\n",
       "    <tr style=\"text-align: right;\">\n",
       "      <th></th>\n",
       "      <th>age</th>\n",
       "      <th>job</th>\n",
       "      <th>marital</th>\n",
       "      <th>education</th>\n",
       "      <th>default</th>\n",
       "      <th>balance</th>\n",
       "      <th>housing</th>\n",
       "      <th>loan</th>\n",
       "      <th>contact</th>\n",
       "      <th>day</th>\n",
       "      <th>month</th>\n",
       "      <th>duration</th>\n",
       "      <th>campaign</th>\n",
       "      <th>pdays</th>\n",
       "      <th>previous</th>\n",
       "      <th>poutcome</th>\n",
       "      <th>y</th>\n",
       "    </tr>\n",
       "  </thead>\n",
       "  <tbody>\n",
       "    <tr>\n",
       "      <th>0</th>\n",
       "      <td>58</td>\n",
       "      <td>management</td>\n",
       "      <td>married</td>\n",
       "      <td>tertiary</td>\n",
       "      <td>no</td>\n",
       "      <td>2143</td>\n",
       "      <td>yes</td>\n",
       "      <td>no</td>\n",
       "      <td>unknown</td>\n",
       "      <td>5</td>\n",
       "      <td>may</td>\n",
       "      <td>261</td>\n",
       "      <td>1</td>\n",
       "      <td>-1</td>\n",
       "      <td>0</td>\n",
       "      <td>unknown</td>\n",
       "      <td>no</td>\n",
       "    </tr>\n",
       "    <tr>\n",
       "      <th>1</th>\n",
       "      <td>44</td>\n",
       "      <td>technician</td>\n",
       "      <td>single</td>\n",
       "      <td>secondary</td>\n",
       "      <td>no</td>\n",
       "      <td>29</td>\n",
       "      <td>yes</td>\n",
       "      <td>no</td>\n",
       "      <td>unknown</td>\n",
       "      <td>5</td>\n",
       "      <td>may</td>\n",
       "      <td>151</td>\n",
       "      <td>1</td>\n",
       "      <td>-1</td>\n",
       "      <td>0</td>\n",
       "      <td>unknown</td>\n",
       "      <td>no</td>\n",
       "    </tr>\n",
       "    <tr>\n",
       "      <th>2</th>\n",
       "      <td>33</td>\n",
       "      <td>entrepreneur</td>\n",
       "      <td>married</td>\n",
       "      <td>secondary</td>\n",
       "      <td>no</td>\n",
       "      <td>2</td>\n",
       "      <td>yes</td>\n",
       "      <td>yes</td>\n",
       "      <td>unknown</td>\n",
       "      <td>5</td>\n",
       "      <td>may</td>\n",
       "      <td>76</td>\n",
       "      <td>1</td>\n",
       "      <td>-1</td>\n",
       "      <td>0</td>\n",
       "      <td>unknown</td>\n",
       "      <td>no</td>\n",
       "    </tr>\n",
       "    <tr>\n",
       "      <th>3</th>\n",
       "      <td>47</td>\n",
       "      <td>blue-collar</td>\n",
       "      <td>married</td>\n",
       "      <td>unknown</td>\n",
       "      <td>no</td>\n",
       "      <td>1506</td>\n",
       "      <td>yes</td>\n",
       "      <td>no</td>\n",
       "      <td>unknown</td>\n",
       "      <td>5</td>\n",
       "      <td>may</td>\n",
       "      <td>92</td>\n",
       "      <td>1</td>\n",
       "      <td>-1</td>\n",
       "      <td>0</td>\n",
       "      <td>unknown</td>\n",
       "      <td>no</td>\n",
       "    </tr>\n",
       "    <tr>\n",
       "      <th>4</th>\n",
       "      <td>33</td>\n",
       "      <td>unknown</td>\n",
       "      <td>single</td>\n",
       "      <td>unknown</td>\n",
       "      <td>no</td>\n",
       "      <td>1</td>\n",
       "      <td>no</td>\n",
       "      <td>no</td>\n",
       "      <td>unknown</td>\n",
       "      <td>5</td>\n",
       "      <td>may</td>\n",
       "      <td>198</td>\n",
       "      <td>1</td>\n",
       "      <td>-1</td>\n",
       "      <td>0</td>\n",
       "      <td>unknown</td>\n",
       "      <td>no</td>\n",
       "    </tr>\n",
       "  </tbody>\n",
       "</table>\n",
       "</div>"
      ],
      "text/plain": [
       "   age           job  marital  education default  balance housing loan  \\\n",
       "0   58    management  married   tertiary      no     2143     yes   no   \n",
       "1   44    technician   single  secondary      no       29     yes   no   \n",
       "2   33  entrepreneur  married  secondary      no        2     yes  yes   \n",
       "3   47   blue-collar  married    unknown      no     1506     yes   no   \n",
       "4   33       unknown   single    unknown      no        1      no   no   \n",
       "\n",
       "   contact  day month  duration  campaign  pdays  previous poutcome   y  \n",
       "0  unknown    5   may       261         1     -1         0  unknown  no  \n",
       "1  unknown    5   may       151         1     -1         0  unknown  no  \n",
       "2  unknown    5   may        76         1     -1         0  unknown  no  \n",
       "3  unknown    5   may        92         1     -1         0  unknown  no  \n",
       "4  unknown    5   may       198         1     -1         0  unknown  no  "
      ]
     },
     "execution_count": 37,
     "metadata": {},
     "output_type": "execute_result"
    }
   ],
   "source": [
    "#  Загрузка данных, показ первых 5 строк\n",
    "data = pd.read_csv('bank-full.csv', sep=';') \n",
    "data.head()"
   ]
  },
  {
   "cell_type": "code",
   "execution_count": 38,
   "id": "6709f99c-618d-4666-92f0-9751769022e4",
   "metadata": {},
   "outputs": [
    {
     "name": "stdout",
     "output_type": "stream",
     "text": [
      "\n",
      "Отобранные признаки:\n",
      "    age           job  marital  education  balance housing  contact  day month  \\\n",
      "0   58    management  married   tertiary     2143     yes  unknown    5   may   \n",
      "1   44    technician   single  secondary       29     yes  unknown    5   may   \n",
      "2   33  entrepreneur  married  secondary        2     yes  unknown    5   may   \n",
      "3   47   blue-collar  married    unknown     1506     yes  unknown    5   may   \n",
      "4   33       unknown   single    unknown        1      no  unknown    5   may   \n",
      "\n",
      "   duration  campaign  pdays  previous poutcome   y  \n",
      "0       261         1     -1         0  unknown  no  \n",
      "1       151         1     -1         0  unknown  no  \n",
      "2        76         1     -1         0  unknown  no  \n",
      "3        92         1     -1         0  unknown  no  \n",
      "4       198         1     -1         0  unknown  no  \n"
     ]
    }
   ],
   "source": [
    "# Выбор признаков\n",
    "features = ['age', 'job', 'marital', 'education', 'balance', 'housing', 'contact', 'day', 'month', 'duration', 'campaign', 'pdays', 'previous', 'poutcome', 'y']\n",
    "data = data[features]\n",
    "print(\"\\nОтобранные признаки:\\n\", data.head())"
   ]
  },
  {
   "cell_type": "code",
   "execution_count": 39,
   "id": "0e6f3dcd-c144-4533-82c7-7c6a69a65e74",
   "metadata": {},
   "outputs": [
    {
     "name": "stdout",
     "output_type": "stream",
     "text": [
      "age          0\n",
      "job          0\n",
      "marital      0\n",
      "education    0\n",
      "balance      0\n",
      "housing      0\n",
      "contact      0\n",
      "day          0\n",
      "month        0\n",
      "duration     0\n",
      "campaign     0\n",
      "pdays        0\n",
      "previous     0\n",
      "poutcome     0\n",
      "y            0\n",
      "dtype: int64\n"
     ]
    }
   ],
   "source": [
    "# Проверка на наличие пропусков\n",
    "print(data.isnull().sum())"
   ]
  },
  {
   "cell_type": "code",
   "execution_count": 40,
   "id": "af683807-c9bf-4caa-9a68-d8678dab17fd",
   "metadata": {},
   "outputs": [
    {
     "name": "stdout",
     "output_type": "stream",
     "text": [
      "Самое частое значение в столбце 'education': secondary\n"
     ]
    }
   ],
   "source": [
    "# Вопрос 1. Какое самое частое значение (mode) для столбца education?\n",
    "education = data['education']\n",
    "mode_value = education.mode()[0]\n",
    "print(f\"Самое частое значение в столбце 'education': {mode_value}\")"
   ]
  },
  {
   "cell_type": "code",
   "execution_count": 41,
   "id": "0a9fafbe-8781-462a-b228-8fb6bc5332f9",
   "metadata": {},
   "outputs": [
    {
     "name": "stdout",
     "output_type": "stream",
     "text": [
      "\n",
      "Корреляционная матрица:\n",
      "                age   balance       day  duration  campaign     pdays  previous\n",
      "age       1.000000  0.097783 -0.009120 -0.004648  0.004760 -0.023758  0.001288\n",
      "balance   0.097783  1.000000  0.004503  0.021560 -0.014578  0.003435  0.016674\n",
      "day      -0.009120  0.004503  1.000000 -0.030206  0.162490 -0.093044 -0.051710\n",
      "duration -0.004648  0.021560 -0.030206  1.000000 -0.084570 -0.001565  0.001203\n",
      "campaign  0.004760 -0.014578  0.162490 -0.084570  1.000000 -0.088628 -0.032855\n",
      "pdays    -0.023758  0.003435 -0.093044 -0.001565 -0.088628  1.000000  0.454820\n",
      "previous  0.001288  0.016674 -0.051710  0.001203 -0.032855  0.454820  1.000000\n"
     ]
    }
   ],
   "source": [
    "# Отбор численных признаков\n",
    "num_features = ['age', 'balance', 'day', 'duration', 'campaign', 'pdays', 'previous']\n",
    "num_data = data[num_features]\n",
    "\n",
    "# Расчет корреляционной матрицы для численных признаков\n",
    "correlation_matrix = num_data.corr()\n",
    "print(\"\\nКорреляционная матрица:\\n\", correlation_matrix)"
   ]
  },
  {
   "cell_type": "code",
   "execution_count": 42,
   "id": "a8ee3714-0167-4ff8-9a68-c88d95c844fe",
   "metadata": {},
   "outputs": [
    {
     "name": "stdout",
     "output_type": "stream",
     "text": [
      "Наибольшая корреляция: 0.4548196354805043 между pdays и previous\n"
     ]
    }
   ],
   "source": [
    "# Вопрос 2. Какие два признака имеют наибольшую корреляцию?\n",
    "max_correlation = 0\n",
    "correlated_features = ('', '')\n",
    "for i in range(len(correlation_matrix.columns)):\n",
    "    for j in range(i + 1, len(correlation_matrix.columns)):\n",
    "        correlation = abs(correlation_matrix.iloc[i, j])\n",
    "        if correlation > max_correlation:\n",
    "            max_correlation = correlation\n",
    "            correlated_features = (correlation_matrix.columns[i], correlation_matrix.columns[j])\n",
    "\n",
    "print(f\"Наибольшая корреляция: {max_correlation} между {correlated_features[0]} и {correlated_features[1]}\")"
   ]
  },
  {
   "cell_type": "code",
   "execution_count": 43,
   "id": "419c3ad4-4131-49d2-9084-3468d8874a51",
   "metadata": {},
   "outputs": [
    {
     "name": "stdout",
     "output_type": "stream",
     "text": [
      "   age           job  marital  education  balance housing  contact  day month  \\\n",
      "0   58    management  married   tertiary     2143     yes  unknown    5   may   \n",
      "1   44    technician   single  secondary       29     yes  unknown    5   may   \n",
      "2   33  entrepreneur  married  secondary        2     yes  unknown    5   may   \n",
      "3   47   blue-collar  married    unknown     1506     yes  unknown    5   may   \n",
      "4   33       unknown   single    unknown        1      no  unknown    5   may   \n",
      "\n",
      "   duration  campaign  pdays  previous poutcome  y  \n",
      "0       261         1     -1         0  unknown  0  \n",
      "1       151         1     -1         0  unknown  0  \n",
      "2        76         1     -1         0  unknown  0  \n",
      "3        92         1     -1         0  unknown  0  \n",
      "4       198         1     -1         0  unknown  0  \n"
     ]
    }
   ],
   "source": [
    "# Подготовка данных\n",
    "data = pd.read_csv('bank-full.csv', sep=';')\n",
    "data = data[features]\n",
    "# Замена 'yes' на 1 и 'no' на 0 в столбце 'y'\n",
    "data['y'] = data['y'].map({'yes': 1, 'no': 0})\n",
    "print(data.head())"
   ]
  },
  {
   "cell_type": "code",
   "execution_count": 44,
   "id": "210d9b0d-1f85-42b2-a8e9-e746348573b0",
   "metadata": {},
   "outputs": [
    {
     "name": "stdout",
     "output_type": "stream",
     "text": [
      "Тренировочный набор: (27126, 7), (27126,)\n",
      "Валидационный набор: (9042, 7), (9042,)\n",
      "Тестовый набор: (9043, 7), (9043,)\n",
      "           Mutual Information\n",
      "job                      0.01\n",
      "marital                  0.00\n",
      "education                0.00\n",
      "housing                  0.01\n",
      "contact                  0.01\n",
      "month                    0.02\n",
      "poutcome                 0.03\n",
      "\n",
      "Переменная с наибольшей взаимной информацией: poutcome\n"
     ]
    }
   ],
   "source": [
    "# Кодирование категориальных переменных\n",
    "label_encoder = LabelEncoder()\n",
    "for column in data.select_dtypes(include=['object']):\n",
    "    data[column] = label_encoder.fit_transform(data[column])\n",
    "    \n",
    "# Выбор категориальных призников\n",
    "features = ['job', 'marital', 'education', 'housing', 'contact', 'month', 'poutcome']\n",
    "X = data[features]\n",
    "# y отдельно\n",
    "Y = data['y']\n",
    "\n",
    "# Разделение данных на тренировочный, валидационный и тестовый наборы\n",
    "X_train, X_temp, Y_train, Y_temp = train_test_split(X, Y, test_size=0.4, random_state=42) \n",
    "X_val, X_test, Y_val, Y_test = train_test_split(X_temp, Y_temp, test_size=0.5, random_state=42)\n",
    "print(f\"Тренировочный набор: {X_train.shape}, {Y_train.shape}\")\n",
    "print(f\"Валидационный набор: {X_val.shape}, {Y_val.shape}\")\n",
    "print(f\"Тестовый набор: {X_test.shape}, {Y_test.shape}\")\n",
    "\n",
    "# Вычисление взаимной информации\n",
    "mutual_info = mutual_info_classif(X_train, Y_train, discrete_features=True)\n",
    "mutual_info_df = pd.DataFrame(mutual_info, index=X_train.columns, columns=['Mutual Information'])\n",
    "mutual_info_df['Mutual Information'] = mutual_info_df['Mutual Information'].round(2)\n",
    "print(mutual_info_df)\n",
    "\n",
    "# Вопрос 3. Какая из переменных имеет наибольшую взаимную информацию?\n",
    "max_mutual_info_index = mutual_info_df['Mutual Information'].idxmax()\n",
    "print(f\"\\nПеременная с наибольшей взаимной информацией: {max_mutual_info_index}\")"
   ]
  },
  {
   "cell_type": "code",
   "execution_count": 45,
   "id": "3fc6b7f7-f251-40c3-886c-dedb94f101ea",
   "metadata": {},
   "outputs": [
    {
     "name": "stdout",
     "output_type": "stream",
     "text": [
      "\n",
      "Точность на валидационном наборе: 0.89\n"
     ]
    }
   ],
   "source": [
    "# One-hot кодирование\n",
    "encoder = OneHotEncoder(handle_unknown='ignore')\n",
    "X_train_encoded = encoder.fit_transform(X_train)\n",
    "X_val_encoded = encoder.transform(X_val)\n",
    "\n",
    "# Обучение модели логистической регрессии\n",
    "model = LogisticRegression(solver='liblinear', C=1.0, max_iter=1000, random_state=42)\n",
    "model.fit(X_train_encoded, Y_train)\n",
    "\n",
    "# Вопрос 4. Определить точность на валидационном наборе данных\n",
    "Y_predicted = model.predict(X_val_encoded)\n",
    "accuracy = accuracy_score(Y_val, Y_predicted)\n",
    "print(f\"\\nТочность на валидационном наборе: {accuracy:.2f}\")"
   ]
  },
  {
   "cell_type": "code",
   "execution_count": 54,
   "id": "17dfec69-8b52-4eaa-9a9e-23178794d737",
   "metadata": {},
   "outputs": [
    {
     "data": {
      "text/plain": [
       "[('age', -0.010395930103959339),\n",
       " ('balance', -0.010174740101747348),\n",
       " ('previous', -0.00928998009289983),\n",
       " ('job', -0.00884760008847596),\n",
       " ('education', -0.0084052200840522),\n",
       " ('contact', -0.0084052200840522),\n",
       " ('campaign', -0.008184030081840321),\n",
       " ('marital', -0.007962840079628442),\n",
       " ('housing', -0.007299270072992692),\n",
       " ('pdays', -0.007299270072992692),\n",
       " ('month', -0.005972130059721303),\n",
       " ('poutcome', -0.005750940057509424),\n",
       " ('duration', -0.004202610042026045)]"
      ]
     },
     "execution_count": 54,
     "metadata": {},
     "output_type": "execute_result"
    }
   ],
   "source": [
    "#  Выбор всех признаков\n",
    "all_features = ['job', 'marital', 'education', 'housing', 'contact', 'month', 'poutcome', 'age', 'balance', 'previous', 'duration', 'pdays', 'campaign']\n",
    "X_all = data[all_features]\n",
    "y_all = data['y']\n",
    "\n",
    "#  Разделение полных данных\n",
    "X_train_full, X_temp_full, y_train_full, y_temp_full = train_test_split(X_all, y_all, test_size=0.4, random_state=42)\n",
    "X_val_full, X_test_full, y_val_full, y_test_full = train_test_split(X_temp_full, y_temp_full, test_size=0.5, random_state=42)\n",
    "\n",
    "#  One-hot кодирование\n",
    "categorical_cols = X_all.select_dtypes(include=['object']).columns\n",
    "\n",
    "encoder_full = OneHotEncoder(sparse_output=False, drop='first')\n",
    "X_encoded_full = encoder_full.fit_transform(X_all[categorical_cols])\n",
    "feature_names_full = encoder_full.get_feature_names_out(categorical_cols)\n",
    "X_encoded_df = pd.DataFrame(X_encoded_full, columns=feature_names_full)\n",
    "numerical_cols_full = X_all.select_dtypes(include=['number']).columns\n",
    "X_final_data = pd.concat([X_encoded_df, X_all[numerical_cols_full].reset_index(drop=True)], axis=1)\n",
    "\n",
    "# 23. Разделение final dataset\n",
    "X_train_final, X_test_final, y_train_final, y_test_final = train_test_split(X_final_data, y_all, test_size=0.2, random_state=42)\n",
    "X_val_final, X_test_final, y_val_final, y_test_final = train_test_split(X_test_final, y_test_final, test_size=0.5, random_state=42)\n",
    "\n",
    "# Инициализируем словарь для хранения разницы в точности\n",
    "accuracy_diff = {}\n",
    "\n",
    "# Исключаем каждый признак по одному и оцениваем изменение точности\n",
    "for feature in all_features:\n",
    "    # Исключаем текущий признак\n",
    "    X_train_excluded = X_train_final.drop(columns=[feature])\n",
    "    X_val_excluded = X_val_final.drop(columns=[feature])\n",
    "    X_train_encoded = encoder.fit_transform(X_train_excluded)\n",
    "    X_val_encoded = encoder.transform(X_val_excluded)\n",
    "    # Обучаем модель на данных без текущего признака\n",
    "    model_excluded = LogisticRegression(solver='liblinear', C=1.0, max_iter=1000, random_state=42)\n",
    "    model_excluded.fit(X_train_encoded, y_train_final)\n",
    "    \n",
    "    # Рассчитываем точность модели\n",
    "    accuracy_excluded = accuracy_score(y_val_final, model_excluded.predict(X_val_encoded))\n",
    "    \n",
    "    # Разница в точности\n",
    "    accuracy_diff[feature] = accuracy - accuracy_excluded\n",
    "\n",
    "# Сортируем разницу в точности по возрастанию\n",
    "sorted_accuracy_diff = sorted(accuracy_diff.items(), key=lambda x: x[1])\n",
    "\n",
    "# Выводим разницу всех признаков\n",
    "sorted_accuracy_diff[:]"
   ]
  },
  {
   "cell_type": "code",
   "execution_count": 55,
   "id": "90a9db0b-3ad6-4129-9ccf-39830520ef08",
   "metadata": {},
   "outputs": [
    {
     "name": "stdout",
     "output_type": "stream",
     "text": [
      "Наименьшую разницу имеет признак marital\n"
     ]
    }
   ],
   "source": [
    "# Вопрос 5.\n",
    "print(\"Наименьшую разницу имеет признак marital\")"
   ]
  },
  {
   "cell_type": "code",
   "execution_count": 56,
   "id": "e0be43c6-8c98-4e86-b7f2-c6809b76d354",
   "metadata": {},
   "outputs": [
    {
     "name": "stdout",
     "output_type": "stream",
     "text": [
      "Точность для C = 0.01: 0.889\n",
      "Точность для C = 0.1: 0.891\n",
      "Точность для C = 1: 0.890\n",
      "Точность для C = 10: 0.890\n",
      "\n",
      "Наилучшая точность: 0.891 (C = 0.1)\n"
     ]
    }
   ],
   "source": [
    "# Подбор гиперпараметра C\n",
    "C_values_list = [0.01, 0.1, 1, 10]\n",
    "best_accuracy_val = 0\n",
    "optimal_C = None\n",
    "\n",
    "for C_val in C_values_list:\n",
    "    model_full = LogisticRegression(solver='liblinear', C=C_val, max_iter=1000, random_state=42)\n",
    "    model_full.fit(X_train_final, y_train_final)\n",
    "    y_predicted_val = model_full.predict(X_val_full)\n",
    "    accuracy_score_val = accuracy_score(y_val_full, y_predicted_val)\n",
    "    print(f\"Точность для C = {C_val}: {accuracy_score_val:.3f}\")\n",
    "\n",
    "    if accuracy_score_val > best_accuracy_val:\n",
    "        best_accuracy_val = accuracy_score_val\n",
    "        optimal_C = C_val\n",
    "# Вопрос 6.\n",
    "print(f\"\\nНаилучшая точность: {best_accuracy_val:.3f} (C = {optimal_C})\")"
   ]
  },
  {
   "cell_type": "code",
   "execution_count": null,
   "id": "c7887888-59e1-4266-aed4-6074bd0e10f2",
   "metadata": {},
   "outputs": [],
   "source": []
  }
 ],
 "metadata": {
  "kernelspec": {
   "display_name": "Python 3 (ipykernel)",
   "language": "python",
   "name": "python3"
  },
  "language_info": {
   "codemirror_mode": {
    "name": "ipython",
    "version": 3
   },
   "file_extension": ".py",
   "mimetype": "text/x-python",
   "name": "python",
   "nbconvert_exporter": "python",
   "pygments_lexer": "ipython3",
   "version": "3.12.6"
  }
 },
 "nbformat": 4,
 "nbformat_minor": 5
}
