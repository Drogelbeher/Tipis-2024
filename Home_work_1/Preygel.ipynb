{
 "cells": [
  {
   "cell_type": "code",
   "execution_count": 28,
   "id": "fe139cdf-69df-43d2-977d-9dc13376001b",
   "metadata": {},
   "outputs": [],
   "source": [
    "import pandas as pd"
   ]
  },
  {
   "cell_type": "code",
   "execution_count": 29,
   "id": "c317aa09-2f1b-4b9e-b495-03f658241799",
   "metadata": {
    "scrolled": true
   },
   "outputs": [
    {
     "data": {
      "text/html": [
       "<div>\n",
       "<style scoped>\n",
       "    .dataframe tbody tr th:only-of-type {\n",
       "        vertical-align: middle;\n",
       "    }\n",
       "\n",
       "    .dataframe tbody tr th {\n",
       "        vertical-align: top;\n",
       "    }\n",
       "\n",
       "    .dataframe thead th {\n",
       "        text-align: right;\n",
       "    }\n",
       "</style>\n",
       "<table border=\"1\" class=\"dataframe\">\n",
       "  <thead>\n",
       "    <tr style=\"text-align: right;\">\n",
       "      <th></th>\n",
       "      <th>age</th>\n",
       "      <th>workclass</th>\n",
       "      <th>fnlwgt</th>\n",
       "      <th>education</th>\n",
       "      <th>education-num</th>\n",
       "      <th>marital-status</th>\n",
       "      <th>occupation</th>\n",
       "      <th>relationship</th>\n",
       "      <th>race</th>\n",
       "      <th>sex</th>\n",
       "      <th>capital-gain</th>\n",
       "      <th>capital-loss</th>\n",
       "      <th>hours-per-week</th>\n",
       "      <th>native-country</th>\n",
       "      <th>income</th>\n",
       "    </tr>\n",
       "  </thead>\n",
       "  <tbody>\n",
       "    <tr>\n",
       "      <th>0</th>\n",
       "      <td>39</td>\n",
       "      <td>State-gov</td>\n",
       "      <td>77516</td>\n",
       "      <td>Bachelors</td>\n",
       "      <td>13</td>\n",
       "      <td>Never-married</td>\n",
       "      <td>Adm-clerical</td>\n",
       "      <td>Not-in-family</td>\n",
       "      <td>White</td>\n",
       "      <td>Male</td>\n",
       "      <td>2174</td>\n",
       "      <td>0</td>\n",
       "      <td>40</td>\n",
       "      <td>United-States</td>\n",
       "      <td>&lt;=50K</td>\n",
       "    </tr>\n",
       "    <tr>\n",
       "      <th>1</th>\n",
       "      <td>50</td>\n",
       "      <td>Self-emp-not-inc</td>\n",
       "      <td>83311</td>\n",
       "      <td>Bachelors</td>\n",
       "      <td>13</td>\n",
       "      <td>Married-civ-spouse</td>\n",
       "      <td>Exec-managerial</td>\n",
       "      <td>Husband</td>\n",
       "      <td>White</td>\n",
       "      <td>Male</td>\n",
       "      <td>0</td>\n",
       "      <td>0</td>\n",
       "      <td>13</td>\n",
       "      <td>United-States</td>\n",
       "      <td>&lt;=50K</td>\n",
       "    </tr>\n",
       "    <tr>\n",
       "      <th>2</th>\n",
       "      <td>38</td>\n",
       "      <td>Private</td>\n",
       "      <td>215646</td>\n",
       "      <td>HS-grad</td>\n",
       "      <td>9</td>\n",
       "      <td>Divorced</td>\n",
       "      <td>Handlers-cleaners</td>\n",
       "      <td>Not-in-family</td>\n",
       "      <td>White</td>\n",
       "      <td>Male</td>\n",
       "      <td>0</td>\n",
       "      <td>0</td>\n",
       "      <td>40</td>\n",
       "      <td>United-States</td>\n",
       "      <td>&lt;=50K</td>\n",
       "    </tr>\n",
       "    <tr>\n",
       "      <th>3</th>\n",
       "      <td>53</td>\n",
       "      <td>Private</td>\n",
       "      <td>234721</td>\n",
       "      <td>11th</td>\n",
       "      <td>7</td>\n",
       "      <td>Married-civ-spouse</td>\n",
       "      <td>Handlers-cleaners</td>\n",
       "      <td>Husband</td>\n",
       "      <td>Black</td>\n",
       "      <td>Male</td>\n",
       "      <td>0</td>\n",
       "      <td>0</td>\n",
       "      <td>40</td>\n",
       "      <td>United-States</td>\n",
       "      <td>&lt;=50K</td>\n",
       "    </tr>\n",
       "    <tr>\n",
       "      <th>4</th>\n",
       "      <td>28</td>\n",
       "      <td>Private</td>\n",
       "      <td>338409</td>\n",
       "      <td>Bachelors</td>\n",
       "      <td>13</td>\n",
       "      <td>Married-civ-spouse</td>\n",
       "      <td>Prof-specialty</td>\n",
       "      <td>Wife</td>\n",
       "      <td>Black</td>\n",
       "      <td>Female</td>\n",
       "      <td>0</td>\n",
       "      <td>0</td>\n",
       "      <td>40</td>\n",
       "      <td>Cuba</td>\n",
       "      <td>&lt;=50K</td>\n",
       "    </tr>\n",
       "  </tbody>\n",
       "</table>\n",
       "</div>"
      ],
      "text/plain": [
       "   age          workclass  fnlwgt   education  education-num  \\\n",
       "0   39          State-gov   77516   Bachelors             13   \n",
       "1   50   Self-emp-not-inc   83311   Bachelors             13   \n",
       "2   38            Private  215646     HS-grad              9   \n",
       "3   53            Private  234721        11th              7   \n",
       "4   28            Private  338409   Bachelors             13   \n",
       "\n",
       "        marital-status          occupation    relationship    race      sex  \\\n",
       "0        Never-married        Adm-clerical   Not-in-family   White     Male   \n",
       "1   Married-civ-spouse     Exec-managerial         Husband   White     Male   \n",
       "2             Divorced   Handlers-cleaners   Not-in-family   White     Male   \n",
       "3   Married-civ-spouse   Handlers-cleaners         Husband   Black     Male   \n",
       "4   Married-civ-spouse      Prof-specialty            Wife   Black   Female   \n",
       "\n",
       "   capital-gain  capital-loss  hours-per-week  native-country  income  \n",
       "0          2174             0              40   United-States   <=50K  \n",
       "1             0             0              13   United-States   <=50K  \n",
       "2             0             0              40   United-States   <=50K  \n",
       "3             0             0              40   United-States   <=50K  \n",
       "4             0             0              40            Cuba   <=50K  "
      ]
     },
     "execution_count": 29,
     "metadata": {},
     "output_type": "execute_result"
    }
   ],
   "source": [
    "df = pd.read_csv('adult.data', header=None, names=['age', 'workclass', 'fnlwgt', 'education', 'education-num', 'marital-status', 'occupation', 'relationship', 'race', 'sex', 'capital-gain', 'capital-loss', 'hours-per-week', 'native-country', 'income'])\n",
    "df.head()"
   ]
  },
  {
   "cell_type": "code",
   "execution_count": 30,
   "id": "b537bc72-4d68-4bb3-855a-6444fc9bd8b4",
   "metadata": {},
   "outputs": [
    {
     "name": "stdout",
     "output_type": "stream",
     "text": [
      "Число столбцов: 15\n"
     ]
    }
   ],
   "source": [
    "# Задание 1 - Число столбцов в наборе данных\n",
    "print(f\"Число столбцов: {len(df.columns)}\")"
   ]
  },
  {
   "cell_type": "code",
   "execution_count": 31,
   "id": "0a48e325-c1c9-4a92-a202-0af9a85f7b92",
   "metadata": {},
   "outputs": [
    {
     "name": "stdout",
     "output_type": "stream",
     "text": [
      "Пропуски есть в столбцах: \n",
      "workclass\n",
      "occupation\n",
      "native-country\n"
     ]
    }
   ],
   "source": [
    "# Задание 2 - Есть ли пропуски в данных? Если есть, то в каких столбцах\n",
    "empty_columns = []\n",
    "for column in df.columns:\n",
    "    if df[column].isin([\" ?\"]).any(): empty_columns.append(column)\n",
    "if len(empty_columns) == 0:\n",
    "    print(\"В данных нет пропусков\")\n",
    "else:\n",
    "    print(\"Пропуски есть в столбцах: \")\n",
    "    for column in empty_columns:\n",
    "        print(column)"
   ]
  },
  {
   "cell_type": "code",
   "execution_count": 32,
   "id": "dc8b3eb6-dbd9-4601-8023-a66c08e5d453",
   "metadata": {},
   "outputs": [
    {
     "name": "stdout",
     "output_type": "stream",
     "text": [
      "Количествово уникальных значений в столбце race - 5\n"
     ]
    }
   ],
   "source": [
    "#Задание 3 - Кол-во уникальных значений в столбце race\n",
    "print(f\"Количествово уникальных значений в столбце race - {df['race'].nunique()}\")"
   ]
  },
  {
   "cell_type": "code",
   "execution_count": 33,
   "id": "438d7658-cdec-41be-9edb-f6e88ce32625",
   "metadata": {},
   "outputs": [
    {
     "name": "stdout",
     "output_type": "stream",
     "text": [
      "Медиана hours-per-week - 40.0\n"
     ]
    }
   ],
   "source": [
    "#Задание 4 - Медиана hours-per-week\n",
    "print(f\"Медиана hours-per-week - {df['hours-per-week'].median()}\")"
   ]
  },
  {
   "cell_type": "code",
   "execution_count": 34,
   "id": "b0b9c132-27e9-494e-9d8d-2975c67659ab",
   "metadata": {},
   "outputs": [
    {
     "name": "stdout",
     "output_type": "stream",
     "text": [
      "Мужчин с ЗП > 50K больше\n"
     ]
    }
   ],
   "source": [
    "#Задание 5 - Кого больше - женщин или мужчин с ЗП >50K?\n",
    "Income = df['income'] == ' >50K'\n",
    "Men = df[Income]['sex'].value_counts()[' Male']\n",
    "Women = df[Income]['sex'].value_counts()[' Female']\n",
    "if Men > Women:\n",
    "    print(\"Мужчин с ЗП > 50K больше\")\n",
    "elif Women > Men:\n",
    "    print(\"Женщин с ЗП > 50K больше\")\n",
    "else:\n",
    "    print(\"Мужчин и женщин с ЗП >50K поровну\")"
   ]
  },
  {
   "cell_type": "code",
   "execution_count": 41,
   "id": "dae7fb51-4047-4772-a739-88a36c696230",
   "metadata": {},
   "outputs": [
    {
     "name": "stdout",
     "output_type": "stream",
     "text": [
      "Самое популярное значение в столбце workclass -  Private\n",
      "Самое популярное значение в столбце occupation -  Prof-specialty\n",
      "Самое популярное значение в столбце native-country -  United-States\n"
     ]
    }
   ],
   "source": [
    "#Задание 6 - Заполните пропущенные данные в отдельных столбцах наиболее встречаемыми значениями. Как еще можно было бы заполнить пропущенные данные?\n",
    "columns = ['workclass', 'occupation', 'native-country']\n",
    "for column in columns:\n",
    "    col = df[column].mode()[0]\n",
    "    print(f\"Самое популярное значение в столбце {column} - {col}\")\n",
    "    df.loc[df[column] == \" ?\", column] = col"
   ]
  },
  {
   "cell_type": "code",
   "execution_count": 40,
   "id": "65afdbe8-28e5-4479-ae9d-4aa191da085b",
   "metadata": {},
   "outputs": [
    {
     "name": "stdout",
     "output_type": "stream",
     "text": [
      "В данных нет пропусков\n"
     ]
    }
   ],
   "source": [
    "#Проверка на заполненность столбцов\n",
    "empty_columns = []\n",
    "for column in df.columns:\n",
    "    if df[column].isin([\" ?\"]).any(): empty_columns.append(column)\n",
    "if len(empty_columns) == 0:\n",
    "    print(\"В данных нет пропусков\")\n",
    "else:\n",
    "    print(\"Пропуски есть в столбцах: \")\n",
    "    for column in empty_columns:\n",
    "        print(column)"
   ]
  },
  {
   "cell_type": "code",
   "execution_count": 42,
   "id": "9a77aeb5-bc1e-4663-8161-8bfcb388b0ca",
   "metadata": {},
   "outputs": [
    {
     "name": "stdout",
     "output_type": "stream",
     "text": [
      "Ответы на задания: \n",
      "Задание 1 - Число столбцов: 15\n",
      "Задание 2 - Количествово уникальных значений в столбце race - 5\n",
      "Задание 3 - Количествово уникальных значений в столбце race - 5\n",
      "Задание 4 - Медиана hours-per-week - 40.0\n",
      "Задание 5 - Мужчин с ЗП > 50K больше\n",
      "Задание 6 - Можно было использовать функцию replace(), а моду посчитать вручную, не используя встроенные функции\n"
     ]
    }
   ],
   "source": [
    "print(\"Ответы на задания: \")\n",
    "print(\"Задание 1 - Число столбцов: 15\")\n",
    "print(\"Задание 2 - Количествово уникальных значений в столбце race - 5\")\n",
    "print(\"Задание 3 - Количествово уникальных значений в столбце race - 5\")\n",
    "print(\"Задание 4 - Медиана hours-per-week - 40.0\")\n",
    "print(\"Задание 5 - Мужчин с ЗП > 50K больше\")\n",
    "print(\"Задание 6 - Можно было использовать функцию replace(), а моду посчитать вручную, не используя встроенные функции\")"
   ]
  },
  {
   "cell_type": "code",
   "execution_count": null,
   "id": "8b8ad32f-3c07-4479-b117-a7369e9ae5ba",
   "metadata": {},
   "outputs": [],
   "source": []
  }
 ],
 "metadata": {
  "kernelspec": {
   "display_name": "Python 3 (ipykernel)",
   "language": "python",
   "name": "python3"
  },
  "language_info": {
   "codemirror_mode": {
    "name": "ipython",
    "version": 3
   },
   "file_extension": ".py",
   "mimetype": "text/x-python",
   "name": "python",
   "nbconvert_exporter": "python",
   "pygments_lexer": "ipython3",
   "version": "3.12.6"
  }
 },
 "nbformat": 4,
 "nbformat_minor": 5
}
